{
 "cells": [
  {
   "cell_type": "markdown",
   "id": "dd1c9439",
   "metadata": {},
   "source": [
    "### 3/7/2022\n",
    "\n",
    "[Here](https://raw.githubusercontent.com/erood/interviewqs.com_code_snippets/master/Datasets/ddi_message_app_data.csv) is a table containing information from a P2P messaging application. The table contains send/receive message data for the application's users. The structure is as follows:  \n",
    "\n",
    "    \n",
    "| Table name: user_messaging                |\n",
    "|:------------------------------------------|\n",
    "| date                                      |\n",
    "| sender_id (#id of the message sender)     |\n",
    "| receiver_id (#id of the message receiver) |  \n",
    "  \n",
    "$~$  \n",
    "    \n",
    "**Calculate what fraction of senders sent messages to at least 9 unique people on March 1, 2018.**  "
   ]
  },
  {
   "cell_type": "code",
   "execution_count": 2,
   "id": "567b0324",
   "metadata": {},
   "outputs": [],
   "source": [
    "import pandas as pd\n",
    "import numpy as np"
   ]
  },
  {
   "cell_type": "code",
   "execution_count": 9,
   "id": "4ce87f53",
   "metadata": {},
   "outputs": [],
   "source": [
    "# import the csv file\n",
    "user_messaging = pd.read_csv('https://raw.githubusercontent.com/erood/interviewqs.com_code_snippets/master/Datasets/ddi_message_app_data.csv')"
   ]
  },
  {
   "cell_type": "code",
   "execution_count": 20,
   "id": "bb67647a",
   "metadata": {},
   "outputs": [],
   "source": [
    "# for each sender ID on each date, calculate the number of unique receiver IDs \n",
    "recipients_per_sender = user_messaging.groupby(['date', 'sender_id']).apply(\n",
    "    lambda x: pd.Series(dict(\n",
    "        n_recipients = len(pd.unique(x['receiver_id']))\n",
    "    ))).reset_index()"
   ]
  },
  {
   "cell_type": "code",
   "execution_count": 21,
   "id": "e7168dee",
   "metadata": {},
   "outputs": [
    {
     "data": {
      "text/html": [
       "<div>\n",
       "<style scoped>\n",
       "    .dataframe tbody tr th:only-of-type {\n",
       "        vertical-align: middle;\n",
       "    }\n",
       "\n",
       "    .dataframe tbody tr th {\n",
       "        vertical-align: top;\n",
       "    }\n",
       "\n",
       "    .dataframe thead th {\n",
       "        text-align: right;\n",
       "    }\n",
       "</style>\n",
       "<table border=\"1\" class=\"dataframe\">\n",
       "  <thead>\n",
       "    <tr style=\"text-align: right;\">\n",
       "      <th></th>\n",
       "      <th>date</th>\n",
       "      <th>sender_id</th>\n",
       "      <th>n_recipients</th>\n",
       "    </tr>\n",
       "  </thead>\n",
       "  <tbody>\n",
       "    <tr>\n",
       "      <th>0</th>\n",
       "      <td>2018-03-01</td>\n",
       "      <td>1</td>\n",
       "      <td>9</td>\n",
       "    </tr>\n",
       "    <tr>\n",
       "      <th>1</th>\n",
       "      <td>2018-03-01</td>\n",
       "      <td>2</td>\n",
       "      <td>9</td>\n",
       "    </tr>\n",
       "    <tr>\n",
       "      <th>2</th>\n",
       "      <td>2018-03-01</td>\n",
       "      <td>3</td>\n",
       "      <td>9</td>\n",
       "    </tr>\n",
       "    <tr>\n",
       "      <th>3</th>\n",
       "      <td>2018-03-01</td>\n",
       "      <td>4</td>\n",
       "      <td>9</td>\n",
       "    </tr>\n",
       "    <tr>\n",
       "      <th>4</th>\n",
       "      <td>2018-03-01</td>\n",
       "      <td>5</td>\n",
       "      <td>9</td>\n",
       "    </tr>\n",
       "  </tbody>\n",
       "</table>\n",
       "</div>"
      ],
      "text/plain": [
       "         date  sender_id  n_recipients\n",
       "0  2018-03-01          1             9\n",
       "1  2018-03-01          2             9\n",
       "2  2018-03-01          3             9\n",
       "3  2018-03-01          4             9\n",
       "4  2018-03-01          5             9"
      ]
     },
     "execution_count": 21,
     "metadata": {},
     "output_type": "execute_result"
    }
   ],
   "source": [
    "recipients_per_sender.head(5)"
   ]
  },
  {
   "cell_type": "code",
   "execution_count": 53,
   "id": "c7fbc604",
   "metadata": {},
   "outputs": [],
   "source": [
    "# calculate number of senders on 3/1/18, number of senders who messaged 9+ unique people on 3/1/18, and the fraction\n",
    "n_senders = sum(recipients_per_sender.date == '2018-03-01')\n",
    "n_senders_9plus_recip = sum((recipients_per_sender.date == '2018-03-01') & (recipients_per_sender.n_recipients >= 9))\n",
    "frac = n_senders_9plus_recip/n_senders"
   ]
  },
  {
   "cell_type": "code",
   "execution_count": 54,
   "id": "f9dd1c29",
   "metadata": {},
   "outputs": [
    {
     "data": {
      "text/plain": [
       "0.9"
      ]
     },
     "execution_count": 54,
     "metadata": {},
     "output_type": "execute_result"
    }
   ],
   "source": [
    "frac"
   ]
  },
  {
   "cell_type": "markdown",
   "id": "1fa4fe58",
   "metadata": {},
   "source": [
    "90% of senders sent messages to at least 9 unique people on March 1, 2018."
   ]
  },
  {
   "cell_type": "code",
   "execution_count": null,
   "id": "cbe21099",
   "metadata": {},
   "outputs": [],
   "source": []
  }
 ],
 "metadata": {
  "kernelspec": {
   "display_name": "Python 3 (ipykernel)",
   "language": "python",
   "name": "python3"
  },
  "language_info": {
   "codemirror_mode": {
    "name": "ipython",
    "version": 3
   },
   "file_extension": ".py",
   "mimetype": "text/x-python",
   "name": "python",
   "nbconvert_exporter": "python",
   "pygments_lexer": "ipython3",
   "version": "3.9.7"
  }
 },
 "nbformat": 4,
 "nbformat_minor": 5
}
