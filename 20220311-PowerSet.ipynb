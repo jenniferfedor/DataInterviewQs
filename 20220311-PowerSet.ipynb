{
 "cells": [
  {
   "cell_type": "markdown",
   "id": "6db11595",
   "metadata": {},
   "source": [
    "### 3/11/2022\n",
    "\n",
    "**Create a function that generates the power set given a set of values.** \n",
    "\n",
    "For example, if you're given the following set:   \n",
    "\n",
    "`set = {1, 2, 3}`  \n",
    "\n",
    "Your function should return the corresponding power set (note this can be a formatted as a list of lists):  \n",
    "\n",
    "`power set = [[], [1], [2], [1, 2], [3], [1, 3], [2, 3], [1, 2, 3]]`  "
   ]
  },
  {
   "cell_type": "code",
   "execution_count": 1,
   "id": "b56a2745",
   "metadata": {},
   "outputs": [],
   "source": [
    "# https://docs.python.org/3/library/itertools.html#itertools.combinations\n",
    "from itertools import combinations"
   ]
  },
  {
   "cell_type": "code",
   "execution_count": 2,
   "id": "a7a5de72",
   "metadata": {},
   "outputs": [],
   "source": [
    "# define the function\n",
    "def powerset(x):\n",
    "    \n",
    "    # start with an empty list\n",
    "    power_set = []\n",
    "    \n",
    "    # get all possible combinations of items in input set x, starting with 0 up to the number of items in the set\n",
    "    for i in range(0, len(x)+1):\n",
    "        combs = combinations(x, i)\n",
    "        combs_list = list(combs)\n",
    "        \n",
    "        # items in combs_list are tuples, so convert each tuple to a list, then append that list to power_set list\n",
    "        for y in combs_list:\n",
    "            y = list(y)\n",
    "            power_set.append(y)\n",
    "    \n",
    "    # return the power set, formatted as a list of lists\n",
    "    return(power_set)"
   ]
  },
  {
   "cell_type": "code",
   "execution_count": 3,
   "id": "a01561fc",
   "metadata": {},
   "outputs": [],
   "source": [
    "test_set = [1, 2, 3]"
   ]
  },
  {
   "cell_type": "code",
   "execution_count": 4,
   "id": "ccc66e89",
   "metadata": {},
   "outputs": [
    {
     "data": {
      "text/plain": [
       "[[], [1], [2], [3], [1, 2], [1, 3], [2, 3], [1, 2, 3]]"
      ]
     },
     "execution_count": 4,
     "metadata": {},
     "output_type": "execute_result"
    }
   ],
   "source": [
    "powerset(test_set)"
   ]
  },
  {
   "cell_type": "code",
   "execution_count": null,
   "id": "44b9ffcc",
   "metadata": {},
   "outputs": [],
   "source": []
  }
 ],
 "metadata": {
  "kernelspec": {
   "display_name": "Python 3 (ipykernel)",
   "language": "python",
   "name": "python3"
  },
  "language_info": {
   "codemirror_mode": {
    "name": "ipython",
    "version": 3
   },
   "file_extension": ".py",
   "mimetype": "text/x-python",
   "name": "python",
   "nbconvert_exporter": "python",
   "pygments_lexer": "ipython3",
   "version": "3.9.7"
  }
 },
 "nbformat": 4,
 "nbformat_minor": 5
}
