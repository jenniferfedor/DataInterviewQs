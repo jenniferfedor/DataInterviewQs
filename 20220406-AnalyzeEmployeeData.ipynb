{
 "cells": [
  {
   "cell_type": "markdown",
   "id": "922a7245",
   "metadata": {},
   "source": [
    "### 4/6/2022\n",
    "\n",
    "Below is a snippet from a table that contains information about employees that work at Company XYZ::  \n",
    "\n",
    "| Column Name | Data Type | Example value | Description |\n",
    "|:--|:--|:--|:--|\n",
    "| employee_name\t| string\t| Cindy\t| Name of employee |   \n",
    "| employee_id\t| integer\t| 1837204\t| unique id for each employee |   \n",
    "| yrs_of_experience\t| integer\t| 14\t| total working years of experience |  \n",
    "| yrs_at_company\t| integer\t| 10\t| total working years at Company XYZ | \n",
    "| compensation\t| integer\t| 100000\t| dollar value of employee compensation | \n",
    "| career_track\t| string\t| technical\t| potential values: technical, non-technical, executive |  \n",
    "\n",
    "\n",
    "Company XYZ Human Resource department is trying to understand compensation across the company.  \n",
    "    \n",
    "**Pull the average, median, minimum, maximum, and standard deviations for salary across 5 year experience buckets at Company XYZ.**  I.e., get the corresponding average, median, minimum, maximum, and standard deviations for experience buckets 0-5, 5-10, 10-15, etc. You can assume the data is imported into a dataframe named `df`.  \n",
    "\n",
    "$~$"
   ]
  },
  {
   "cell_type": "code",
   "execution_count": 1,
   "id": "5b2fe747",
   "metadata": {},
   "outputs": [],
   "source": [
    "import pandas as pd"
   ]
  },
  {
   "cell_type": "code",
   "execution_count": 2,
   "id": "13669855",
   "metadata": {},
   "outputs": [],
   "source": [
    "# create a dictionary with some fake data\n",
    "d = {\n",
    "    'employee_name': ['Cindy', 'Bob', 'Dan', 'Pam'],\n",
    "    'employee_id': [1837204, 1837205, 1837206, 1837207],\n",
    "    'yrs_of_experience': [14, 10, 4, 20],\n",
    "    'yrs_at_company': [10, 4, 4, 16],\n",
    "    'compensation': [100000, 60000, 50000, 150000],\n",
    "    'career_track': ['technical', 'non-technical', 'technical', 'executive']\n",
    "}"
   ]
  },
  {
   "cell_type": "code",
   "execution_count": 3,
   "id": "ff980d6e",
   "metadata": {},
   "outputs": [],
   "source": [
    "# create a dataframe of the fake data\n",
    "df = pd.DataFrame(d)"
   ]
  },
  {
   "cell_type": "code",
   "execution_count": 4,
   "id": "5c223d69",
   "metadata": {},
   "outputs": [],
   "source": [
    "# create cut points for the 5-year experience bins, e.g., 0 up to but not including 5 years experience = [0, 5)\n",
    "# the interval range ends at the max years of experience among the employees plus 5 to ensure everyone is binned\n",
    "bins = pd.interval_range(start = 0, freq = 5, end = max(df['yrs_at_company'])+5, closed = 'left')"
   ]
  },
  {
   "cell_type": "code",
   "execution_count": 5,
   "id": "56ba2885",
   "metadata": {},
   "outputs": [],
   "source": [
    "# add a variable to the dataframe corresponding to experience bin based on the above cut points\n",
    "df['yrs_at_company_bin'] = pd.cut(df['yrs_at_company'], bins = bins)"
   ]
  },
  {
   "cell_type": "code",
   "execution_count": 6,
   "id": "fd31f6d6",
   "metadata": {},
   "outputs": [],
   "source": [
    "# summary statistics for salary (compensation) for each experience bin group\n",
    "salary_by_group = df.groupby('yrs_at_company_bin')['compensation'].describe().reset_index()"
   ]
  },
  {
   "cell_type": "code",
   "execution_count": 7,
   "id": "04769d83",
   "metadata": {},
   "outputs": [],
   "source": [
    "# round the standard deviation column to 2 decimal place digits\n",
    "salary_by_group['std'] = salary_by_group['std'].round(2)"
   ]
  },
  {
   "cell_type": "code",
   "execution_count": 8,
   "id": "69393a68",
   "metadata": {},
   "outputs": [],
   "source": [
    "# select subset of columns (we don't need count, 25th, or 75th percentile)\n",
    "salary_by_group  = salary_by_group [['yrs_at_company_bin', 'mean', 'std', '50%', 'min', 'max']]"
   ]
  },
  {
   "cell_type": "code",
   "execution_count": 9,
   "id": "034130ab",
   "metadata": {},
   "outputs": [],
   "source": [
    "# rename some columns\n",
    "salary_by_group  = salary_by_group.rename({'yrs_at_company_bin':'years_experience', 'std':'stdev', '50%':'median'}, axis = 1)"
   ]
  },
  {
   "cell_type": "code",
   "execution_count": 10,
   "id": "b50ee2eb",
   "metadata": {},
   "outputs": [
    {
     "data": {
      "text/html": [
       "<div>\n",
       "<style scoped>\n",
       "    .dataframe tbody tr th:only-of-type {\n",
       "        vertical-align: middle;\n",
       "    }\n",
       "\n",
       "    .dataframe tbody tr th {\n",
       "        vertical-align: top;\n",
       "    }\n",
       "\n",
       "    .dataframe thead th {\n",
       "        text-align: right;\n",
       "    }\n",
       "</style>\n",
       "<table border=\"1\" class=\"dataframe\">\n",
       "  <thead>\n",
       "    <tr style=\"text-align: right;\">\n",
       "      <th></th>\n",
       "      <th>years_experience</th>\n",
       "      <th>mean</th>\n",
       "      <th>stdev</th>\n",
       "      <th>median</th>\n",
       "      <th>min</th>\n",
       "      <th>max</th>\n",
       "    </tr>\n",
       "  </thead>\n",
       "  <tbody>\n",
       "    <tr>\n",
       "      <th>0</th>\n",
       "      <td>[0, 5)</td>\n",
       "      <td>55000.0</td>\n",
       "      <td>7071.07</td>\n",
       "      <td>55000.0</td>\n",
       "      <td>50000.0</td>\n",
       "      <td>60000.0</td>\n",
       "    </tr>\n",
       "    <tr>\n",
       "      <th>1</th>\n",
       "      <td>[5, 10)</td>\n",
       "      <td>NaN</td>\n",
       "      <td>NaN</td>\n",
       "      <td>NaN</td>\n",
       "      <td>NaN</td>\n",
       "      <td>NaN</td>\n",
       "    </tr>\n",
       "    <tr>\n",
       "      <th>2</th>\n",
       "      <td>[10, 15)</td>\n",
       "      <td>100000.0</td>\n",
       "      <td>NaN</td>\n",
       "      <td>100000.0</td>\n",
       "      <td>100000.0</td>\n",
       "      <td>100000.0</td>\n",
       "    </tr>\n",
       "    <tr>\n",
       "      <th>3</th>\n",
       "      <td>[15, 20)</td>\n",
       "      <td>150000.0</td>\n",
       "      <td>NaN</td>\n",
       "      <td>150000.0</td>\n",
       "      <td>150000.0</td>\n",
       "      <td>150000.0</td>\n",
       "    </tr>\n",
       "  </tbody>\n",
       "</table>\n",
       "</div>"
      ],
      "text/plain": [
       "  years_experience      mean    stdev    median       min       max\n",
       "0           [0, 5)   55000.0  7071.07   55000.0   50000.0   60000.0\n",
       "1          [5, 10)       NaN      NaN       NaN       NaN       NaN\n",
       "2         [10, 15)  100000.0      NaN  100000.0  100000.0  100000.0\n",
       "3         [15, 20)  150000.0      NaN  150000.0  150000.0  150000.0"
      ]
     },
     "execution_count": 10,
     "metadata": {},
     "output_type": "execute_result"
    }
   ],
   "source": [
    "salary_by_group "
   ]
  },
  {
   "cell_type": "code",
   "execution_count": null,
   "id": "da0ae4c9",
   "metadata": {},
   "outputs": [],
   "source": []
  }
 ],
 "metadata": {
  "kernelspec": {
   "display_name": "Python 3 (ipykernel)",
   "language": "python",
   "name": "python3"
  },
  "language_info": {
   "codemirror_mode": {
    "name": "ipython",
    "version": 3
   },
   "file_extension": ".py",
   "mimetype": "text/x-python",
   "name": "python",
   "nbconvert_exporter": "python",
   "pygments_lexer": "ipython3",
   "version": "3.9.7"
  }
 },
 "nbformat": 4,
 "nbformat_minor": 5
}
