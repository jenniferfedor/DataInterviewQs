{
 "cells": [
  {
   "cell_type": "markdown",
   "id": "7ea72a3d",
   "metadata": {},
   "source": [
    "### 4/4/2022\n",
    "\n",
    "Suppose you are given `P`, which is list of `j` integer intervals, where `j` is the number of intervals. The intervals are in a format `[a, b]`.   \n",
    "\n",
    "**Given an integer `z`, return the number of overlapping intervals for point `z`.**  \n",
    "\n",
    "For example:   \n",
    "\n",
    "`#Input:`  \n",
    "`P =  [[0, 2], [3, 7], [4, 6], [7, 8], [1 ,5]]`  \n",
    "`z = 5`  \n",
    "      \n",
    "`#Output:`  \n",
    "`# 3`  \n",
    "`# At z = 5, there are 3 intervals that overlap. The intervals are: [3, 7], [4, 6], and [1, 5]`   "
   ]
  },
  {
   "cell_type": "code",
   "execution_count": 1,
   "id": "f8719179",
   "metadata": {},
   "outputs": [],
   "source": [
    "def CountOverlappingIntervals (P, z):\n",
    "    \n",
    "    # list of the intervals [a,b] in P that contain the point z (i.e., where both z >= a and z <= b)\n",
    "    intervals = [val for i, val in enumerate(P) if (z >= P[i][0]) & (z <= P[i][1])]\n",
    "    \n",
    "    # the length of the above list is the number of intervals that contain point z\n",
    "    n = len(intervals)\n",
    "    \n",
    "    # return the number of overlapping intervals, n\n",
    "    return n"
   ]
  },
  {
   "cell_type": "code",
   "execution_count": 2,
   "id": "217c146a",
   "metadata": {},
   "outputs": [],
   "source": [
    "P = [[0, 2], [3, 7], [4, 6], [7, 8], [1 ,5]]\n",
    "z = 5"
   ]
  },
  {
   "cell_type": "code",
   "execution_count": 3,
   "id": "55690a75",
   "metadata": {},
   "outputs": [
    {
     "data": {
      "text/plain": [
       "3"
      ]
     },
     "execution_count": 3,
     "metadata": {},
     "output_type": "execute_result"
    }
   ],
   "source": [
    "CountOverlappingIntervals(P, z)"
   ]
  },
  {
   "cell_type": "code",
   "execution_count": null,
   "id": "e6fce6e4",
   "metadata": {},
   "outputs": [],
   "source": []
  }
 ],
 "metadata": {
  "kernelspec": {
   "display_name": "Python 3 (ipykernel)",
   "language": "python",
   "name": "python3"
  },
  "language_info": {
   "codemirror_mode": {
    "name": "ipython",
    "version": 3
   },
   "file_extension": ".py",
   "mimetype": "text/x-python",
   "name": "python",
   "nbconvert_exporter": "python",
   "pygments_lexer": "ipython3",
   "version": "3.9.7"
  }
 },
 "nbformat": 4,
 "nbformat_minor": 5
}
