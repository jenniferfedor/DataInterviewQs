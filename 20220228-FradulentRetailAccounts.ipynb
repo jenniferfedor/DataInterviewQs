{
 "cells": [
  {
   "cell_type": "markdown",
   "id": "a17d2892",
   "metadata": {},
   "source": [
    "### 2/28/2022\n",
    "\n",
    "Below is a daily table for an active acount at Shopify (an online ecommerce, retail platform). The table is called store_account and the columns are:  \n",
    "\n",
    "| Column Name | Data Type | Description |\n",
    "|:--|:--|:--|\n",
    "| store_id | integer | a unique Shopify store id  |\n",
    "| date | string | date  |\n",
    "| status | string | Possible values are: open, closed, fraud  |\n",
    "| revenue | double | Amount of spend in USD  |\n",
    "\n",
    "Here's some additional information about the table:\n",
    "   - The granularity of the table is store_id and day  \n",
    "   - Assume “closed” and “fraud” are permanent labels  \n",
    "   - Active = daily revenue > 0   \n",
    "   - Accounts get labeled by Shopify as fraudulent and they no longer can sell product   \n",
    "   - Every day of the table has every store_id that has ever used Shopify  \n",
    "   \n",
    "Some clarifications:\n",
    "   - We want one value for each day in the month   \n",
    "   - A store can be fraudulent and active on same day. E.g. they could generate revenue until 10AM, then be flagged as fradulent from 10AM onward  \n",
    "   \n",
    "\n",
    "**Given the above, write code using Python (Pandas library) to show what percent of active stores were fraudulent by day.** "
   ]
  },
  {
   "cell_type": "code",
   "execution_count": 2,
   "id": "94a1da85",
   "metadata": {},
   "outputs": [],
   "source": [
    "import pandas as pd"
   ]
  },
  {
   "cell_type": "code",
   "execution_count": 60,
   "id": "55db289a",
   "metadata": {},
   "outputs": [],
   "source": [
    "# create the store_account table\n",
    "store_account = pd.DataFrame(columns = ['store_id', 'date', 'status', 'revenue'])"
   ]
  },
  {
   "cell_type": "code",
   "execution_count": 63,
   "id": "25229896",
   "metadata": {},
   "outputs": [],
   "source": [
    "# calculate the total number of active stores and the number of those active stores that are fraudulent per day\n",
    "result = store_account.groupby('date').apply(\n",
    "    lambda x: pd.Series(dict(\n",
    "        n_active_stores = (x.revenue > 0).sum(),\n",
    "        n_active_fraud_stores = ((x.revenue > 0) & (x.status == 'fraud')).sum()\n",
    "    ))).reset_index()"
   ]
  },
  {
   "cell_type": "code",
   "execution_count": 56,
   "id": "aca3424a",
   "metadata": {},
   "outputs": [],
   "source": [
    "# calculate the proportion of active stores that are fraudulent, rounded to fourth decimal place\n",
    "result['percent_active_fraud_stores'] = (result['n_active_fraud_stores']/result['n_active_stores']).round(4)"
   ]
  },
  {
   "cell_type": "code",
   "execution_count": 58,
   "id": "aa56f24b",
   "metadata": {},
   "outputs": [],
   "source": [
    "# drop the columns containing counts\n",
    "result = result.drop(columns = ['n_active_fraud_stores', 'n_active_stores'])"
   ]
  },
  {
   "cell_type": "code",
   "execution_count": null,
   "id": "4f293158",
   "metadata": {},
   "outputs": [],
   "source": [
    "# final dataframe with columns for day and pecent of active stores that were fraudulent\n",
    "result"
   ]
  }
 ],
 "metadata": {
  "kernelspec": {
   "display_name": "Python 3 (ipykernel)",
   "language": "python",
   "name": "python3"
  },
  "language_info": {
   "codemirror_mode": {
    "name": "ipython",
    "version": 3
   },
   "file_extension": ".py",
   "mimetype": "text/x-python",
   "name": "python",
   "nbconvert_exporter": "python",
   "pygments_lexer": "ipython3",
   "version": "3.9.7"
  }
 },
 "nbformat": 4,
 "nbformat_minor": 5
}
