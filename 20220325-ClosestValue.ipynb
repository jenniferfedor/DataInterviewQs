{
 "cells": [
  {
   "cell_type": "markdown",
   "id": "16f49b75",
   "metadata": {},
   "source": [
    "### 3/25/2022\n",
    "\n",
    "Suppose you are given a list of `Q` 1D points. Write code to return the value in `Q` that is the closest to value `j`. If two values are equally close to `j`, return the smaller value.   \n",
    "   \n",
    "Example:  \n",
    "     \n",
    "`Q = [1, -1, -5, 2, 4, -2, 1]`  \n",
    "`j = 3`  \n",
    "`# Output: 2`  "
   ]
  },
  {
   "cell_type": "code",
   "execution_count": 1,
   "id": "9e5d766b",
   "metadata": {},
   "outputs": [],
   "source": [
    "import pandas as pd"
   ]
  },
  {
   "cell_type": "code",
   "execution_count": 10,
   "id": "c22ccf35",
   "metadata": {},
   "outputs": [],
   "source": [
    "def ReturnClosestValue(Q, j):\n",
    "        \n",
    "    # Q should be a list of numbers (integer or float)\n",
    "    if isinstance(Q, list) == False or all(type(x) in (int, float) for x in Q) == False:\n",
    "        raise Exception('Q must be a list of numbers')\n",
    "    \n",
    "    # j should be a number (integer or float)\n",
    "    if type(j) in (int, float) == False:\n",
    "        raise Exception('j must be an integer')\n",
    "    \n",
    "    # list containing absolute value of the difference between each element in Q and value j\n",
    "    diffs = [abs(q - j) for q in Q]\n",
    "    \n",
    "    # index or indices of the elements with the smallest absolute difference\n",
    "    min_abs_diff_index = [i for i, x in enumerate(diffs) if x == min(diffs)]\n",
    "    \n",
    "    # the elements of Q at the above index value(s)\n",
    "    closest_vals = list(pd.Series(Q)[min_abs_diff_index])\n",
    "    \n",
    "    # if there are multiple elements that are closest to j, we only want the smallest \n",
    "    min_closest_val = min(closest_vals)\n",
    "    \n",
    "    return min_closest_val"
   ]
  },
  {
   "cell_type": "code",
   "execution_count": 11,
   "id": "5ff9855b",
   "metadata": {},
   "outputs": [],
   "source": [
    "Q = [1, -1, -5, 2, 4, -2, 1]\n",
    "j = 3"
   ]
  },
  {
   "cell_type": "code",
   "execution_count": 12,
   "id": "191ed550",
   "metadata": {},
   "outputs": [
    {
     "data": {
      "text/plain": [
       "2"
      ]
     },
     "execution_count": 12,
     "metadata": {},
     "output_type": "execute_result"
    }
   ],
   "source": [
    "ReturnClosestValue(Q, j)"
   ]
  },
  {
   "cell_type": "code",
   "execution_count": null,
   "id": "21ebaae9",
   "metadata": {},
   "outputs": [],
   "source": []
  }
 ],
 "metadata": {
  "kernelspec": {
   "display_name": "Python 3 (ipykernel)",
   "language": "python",
   "name": "python3"
  },
  "language_info": {
   "codemirror_mode": {
    "name": "ipython",
    "version": 3
   },
   "file_extension": ".py",
   "mimetype": "text/x-python",
   "name": "python",
   "nbconvert_exporter": "python",
   "pygments_lexer": "ipython3",
   "version": "3.9.7"
  }
 },
 "nbformat": 4,
 "nbformat_minor": 5
}
