{
 "cells": [
  {
   "cell_type": "markdown",
   "id": "902e2fe4",
   "metadata": {},
   "source": [
    "### 3/4/2022\n",
    "\n",
    "Suppose we have selected a group of people to take a survey. 35% of the group like Uber, 20% like both Lyft and Uber, and 25% like neither Lyft nor Uber. Given this information, what percentage of the sample likes Lyft? You can use basic probability theory to solve this problem.\n"
   ]
  },
  {
   "cell_type": "markdown",
   "id": "f3de86f3",
   "metadata": {},
   "source": [
    "**Solution:** \n",
    "\n",
    "Let L designate Lyft and U designate Uber. The intersection of L and U is denoted by $\\cap$. The union of L and U (i.e., L or U) is denoted by $\\cup$. We are given in the problem that:   \n",
    "\n",
    "$P(U) = 0.35$  \n",
    "$P(L \\cap U) = 0.2$    \n",
    "$P(L' \\cap U') = 0.25$  "
   ]
  },
  {
   "cell_type": "markdown",
   "id": "9108feae",
   "metadata": {},
   "source": [
    "From the complement rule, we know that:  \n",
    "$P(L' \\cap U') = 1 - P(L \\cup U)$  \n",
    "\n",
    "From the addition rule, we know that:     \n",
    "$P(L \\cup U) = P(L) + P(U) - P(L \\cap U)$   \n",
    "\n",
    "We can combine these and rearrange terms to find the probabilty of L:  \n",
    "$P(L) = 1 - P(U) - P(L' \\cap U') + P(L \\cap U)$"
   ]
  },
  {
   "cell_type": "markdown",
   "id": "3a4096eb",
   "metadata": {},
   "source": [
    "Applying this to the values given in our problem, the probability of liking Lyft is given by:  \n",
    "$P(L) = 1 - P(U) - P(L' \\cap U') + P(L \\cap U)$  \n",
    "$P(L) = 1 - 0.35 - 0.25 + 0.2$  \n",
    "$P(L) = 0.6$ "
   ]
  },
  {
   "cell_type": "markdown",
   "id": "64eec440",
   "metadata": {},
   "source": [
    "60% of the sample likes Lyft.  "
   ]
  },
  {
   "cell_type": "code",
   "execution_count": null,
   "id": "14456e8d",
   "metadata": {},
   "outputs": [],
   "source": []
  }
 ],
 "metadata": {
  "kernelspec": {
   "display_name": "Python 3 (ipykernel)",
   "language": "python",
   "name": "python3"
  },
  "language_info": {
   "codemirror_mode": {
    "name": "ipython",
    "version": 3
   },
   "file_extension": ".py",
   "mimetype": "text/x-python",
   "name": "python",
   "nbconvert_exporter": "python",
   "pygments_lexer": "ipython3",
   "version": "3.9.7"
  }
 },
 "nbformat": 4,
 "nbformat_minor": 5
}
