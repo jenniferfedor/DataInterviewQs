{
 "cells": [
  {
   "cell_type": "markdown",
   "id": "82738f99",
   "metadata": {},
   "source": [
    "### 4/13/2022\n",
    "\n",
    "**Write a function to return a boolean that indicates if two strings are one edit away from being identical. The function should take in 2 strings and return a boolean.**   \n",
    "\n",
    "The definition of an \"edit\" is as follows:\n",
    "\n",
    "   - Insert one character   \n",
    "   - Remove one character  \n",
    "   - Replace one character\n",
    "  \n",
    "A few examples of inputs and the function result are listed below.\n",
    " \n",
    "`OneEditAway(\"pea\", \"peas\") = True`  \n",
    "`OneEditAway(\"pea\", \"fleas\") = False`  \n",
    "`OneEditAway(\"pea\", \"lea\") = True`  \n",
    "`OneEditAway(\"pea\", \"seas\") = False`  \n",
    "\n",
    "$~$"
   ]
  },
  {
   "cell_type": "code",
   "execution_count": 1,
   "id": "36a1df0c",
   "metadata": {},
   "outputs": [],
   "source": [
    "def OneEditAway (a, b):\n",
    "    \n",
    "    # convert inputs to strings if they are not already\n",
    "    if type(a) != str:\n",
    "        a = str(a)\n",
    "        \n",
    "    if type(b) != str:\n",
    "        b = str(b)\n",
    "        \n",
    "    # convert inputs to lower case\n",
    "    a = a.lower()\n",
    "    b = b.lower()\n",
    "        \n",
    "    # list of characters of each string (to preserve multiples of non-unique elements, not using a set)\n",
    "    a_chars = [char for i, char in enumerate(a)]\n",
    "    b_chars = [char for i, char in enumerate(b)]\n",
    "    \n",
    "    # lists of items in a but not b, and items in b but not a\n",
    "    a_not_b = [item for item in a_chars if item not in b_chars] \n",
    "    b_not_a = [item for item in b_chars if item not in a_chars] \n",
    "    \n",
    "    # a and b are one edit away only if there is one or zero items in a but not b AND one or zero items in b but not a\n",
    "    # otherwise, more than one edit would be required so we return False\n",
    "    if len(a_not_b) <= 1 and len(b_not_a) <= 1:\n",
    "        return True\n",
    "    else:\n",
    "        return False"
   ]
  },
  {
   "cell_type": "code",
   "execution_count": 7,
   "id": "3047bf5b",
   "metadata": {},
   "outputs": [],
   "source": [
    "a = 'pea'\n",
    "b = 'peas'"
   ]
  },
  {
   "cell_type": "code",
   "execution_count": 8,
   "id": "da649270",
   "metadata": {},
   "outputs": [
    {
     "data": {
      "text/plain": [
       "True"
      ]
     },
     "execution_count": 8,
     "metadata": {},
     "output_type": "execute_result"
    }
   ],
   "source": [
    "OneEditAway(a, b)"
   ]
  },
  {
   "cell_type": "code",
   "execution_count": 9,
   "id": "a8983c1c",
   "metadata": {},
   "outputs": [],
   "source": [
    "a = 'pea'\n",
    "b = 'fleas'"
   ]
  },
  {
   "cell_type": "code",
   "execution_count": 10,
   "id": "d28e77bf",
   "metadata": {},
   "outputs": [
    {
     "data": {
      "text/plain": [
       "False"
      ]
     },
     "execution_count": 10,
     "metadata": {},
     "output_type": "execute_result"
    }
   ],
   "source": [
    "OneEditAway(a, b)"
   ]
  },
  {
   "cell_type": "code",
   "execution_count": 11,
   "id": "a658b19e",
   "metadata": {},
   "outputs": [],
   "source": [
    "a = 'pea'\n",
    "b = 'lea'"
   ]
  },
  {
   "cell_type": "code",
   "execution_count": 12,
   "id": "72e01c4d",
   "metadata": {},
   "outputs": [
    {
     "data": {
      "text/plain": [
       "True"
      ]
     },
     "execution_count": 12,
     "metadata": {},
     "output_type": "execute_result"
    }
   ],
   "source": [
    "OneEditAway(a, b)"
   ]
  },
  {
   "cell_type": "code",
   "execution_count": 13,
   "id": "0c78c1c2",
   "metadata": {},
   "outputs": [],
   "source": [
    "a = 'pea'\n",
    "b = 'seas'"
   ]
  },
  {
   "cell_type": "code",
   "execution_count": 14,
   "id": "149af8f9",
   "metadata": {},
   "outputs": [
    {
     "data": {
      "text/plain": [
       "False"
      ]
     },
     "execution_count": 14,
     "metadata": {},
     "output_type": "execute_result"
    }
   ],
   "source": [
    "OneEditAway(a, b)"
   ]
  },
  {
   "cell_type": "code",
   "execution_count": null,
   "id": "904489b9",
   "metadata": {},
   "outputs": [],
   "source": []
  }
 ],
 "metadata": {
  "kernelspec": {
   "display_name": "Python 3 (ipykernel)",
   "language": "python",
   "name": "python3"
  },
  "language_info": {
   "codemirror_mode": {
    "name": "ipython",
    "version": 3
   },
   "file_extension": ".py",
   "mimetype": "text/x-python",
   "name": "python",
   "nbconvert_exporter": "python",
   "pygments_lexer": "ipython3",
   "version": "3.9.7"
  }
 },
 "nbformat": 4,
 "nbformat_minor": 5
}
