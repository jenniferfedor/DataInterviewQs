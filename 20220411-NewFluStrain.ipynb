{
 "cells": [
  {
   "cell_type": "markdown",
   "id": "9bf5d611",
   "metadata": {},
   "source": [
    "### 4/11/2022\n",
    "\n",
    "You go to see the doctor about a cough you've had for a while. The doctor selects you at random to have a blood test for a new strain of flu, which for the purposes of this exercise we will say is currently suspected to affect 1 in 10,000 people in the US. The test is 99% accurate, in the sense that the probability of a false positive is 1%. The probability of a false negative is zero. You test positive. \n",
    "\n",
    "**What is the new probability that you have this strain of flu?**  \n",
    "\n",
    "$~$"
   ]
  },
  {
   "cell_type": "markdown",
   "id": "c6e1f8e7",
   "metadata": {},
   "source": [
    "**Solution:**  \n",
    "\n",
    "We are given the following formation.  \n",
    "\n",
    "Rate of flu in the population: $P(\\text{flu}) = 1/10000 = 0.0001$  \n",
    "True positive rate: $P(\\text{positive } | \\text{ flu}) = 0.99$  \n",
    "False positive rate: $P(\\text{positive } | \\text{ no flu}) = 0.1$   \n",
    "False negative rate: $P(\\text{negative } | \\text{ flu}) = 0$  \n",
    "\n",
    "$~$\n",
    "\n",
    "From the given information, we can calculate the following.   \n",
    "\n",
    "Rate of no flu in the population: $P(\\text{no flu}) = 1 - P(\\text{flu}) = 1 - 0.0001 = 0.9999$  \n",
    "\n",
    "Positive test rate: $P(\\text{positive}) = P(\\text{positive } | \\text{ flu})P(\\text{flu}) + P(\\text{positive } | \\text{ no flu})P(\\text{no flu}) = (0.99 \\times 0.0001) + (0.1 \\times 0.9999)$  \n",
    "\n",
    "$~$\n",
    "\n",
    "Therefore, the probabilty that you have the flu given that you test positive is given by:  \n",
    "\n",
    "$P(\\text{flu } | \\text{ positive}) = \\frac{P(\\text{positive } | \\text{ flu}) P(\\text{flu})}{P(\\text{positive})}$  \n",
    "\n",
    "$P(\\text{flu } | \\text{ positive}) = \\frac{P(\\text{positive } | \\text{ flu}) P(\\text{flu})}{P(\\text{positive})}$  \n",
    "\n",
    "$P(\\text{flu } | \\text{ positive}) = \\frac{(0.99 \\times 0.0001) }{(0.99 \\times 0.0001) + (0.1 \\times 0.9999)}$  "
   ]
  },
  {
   "cell_type": "code",
   "execution_count": 4,
   "id": "ed99ac19",
   "metadata": {},
   "outputs": [
    {
     "data": {
      "text/plain": [
       "0.001"
      ]
     },
     "execution_count": 4,
     "metadata": {},
     "output_type": "execute_result"
    }
   ],
   "source": [
    "round((0.99*0.0001)/((0.99*0.0001)+(0.1*0.9999)), 4)"
   ]
  },
  {
   "cell_type": "markdown",
   "id": "ba845e42",
   "metadata": {},
   "source": [
    "**The probabilty that you have the flu given that you test positive is about 0.001, or about 0.1%.**  "
   ]
  },
  {
   "cell_type": "code",
   "execution_count": null,
   "id": "e36b00f4",
   "metadata": {},
   "outputs": [],
   "source": []
  }
 ],
 "metadata": {
  "kernelspec": {
   "display_name": "Python 3 (ipykernel)",
   "language": "python",
   "name": "python3"
  },
  "language_info": {
   "codemirror_mode": {
    "name": "ipython",
    "version": 3
   },
   "file_extension": ".py",
   "mimetype": "text/x-python",
   "name": "python",
   "nbconvert_exporter": "python",
   "pygments_lexer": "ipython3",
   "version": "3.9.7"
  }
 },
 "nbformat": 4,
 "nbformat_minor": 5
}
