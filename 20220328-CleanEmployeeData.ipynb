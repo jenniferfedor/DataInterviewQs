{
 "cells": [
  {
   "cell_type": "markdown",
   "id": "41798e37",
   "metadata": {},
   "source": [
    "### 3/28/2022\n",
    "\n",
    "Below is a snippet from a table that contains information about employees that work at Company XYZ:  \n",
    "\n",
    "| employee_name\t| employee_id | date_joined | age |\tyrs_of_experience |   \n",
    "|:--|:--|:--|:--|:--|  \n",
    "| Andy\t| 123456\t| 2015-02-15\t| 45\t| 24 |  \n",
    "| Beth\t| 789456\t| NaN\t| 36\t| 15 |    \n",
    "| Cindy\t| 654123\t| 2017-05-16\t| 34\t| 14 |   \n",
    "| Dale\t| 963852\t| 2018-01-15\t| 25\t| 4 |   \n",
    "\n",
    "\n",
    "Company XYZ recently migrated database systems causing some of the date_joined records to be NULL. You're told by an analyst in human resources NULL records for the date_joined field indicates the employees joined prior to 2010. You also find out there are multiple employees with the same name and duplicate records for some employees.  \n",
    "\n",
    "**Given this, write code to find the number of employees that joined each month.** You can group all of the null values as Dec 1, 2009.  \n",
    "\n",
    "$~$"
   ]
  },
  {
   "cell_type": "code",
   "execution_count": 1,
   "id": "59a32291",
   "metadata": {},
   "outputs": [],
   "source": [
    "import pandas as pd\n",
    "import numpy as np"
   ]
  },
  {
   "cell_type": "code",
   "execution_count": 2,
   "id": "47961ae1",
   "metadata": {},
   "outputs": [],
   "source": [
    "# snippet of the employee info table\n",
    "employee_info = pd.DataFrame(\n",
    "    {\n",
    "    'employee_name': ['Andy', 'Beth', 'Cindy', 'Dale'], \n",
    "    'employee_id': [123456, 789456, 654123, 963852],\n",
    "    'date_joined': ['2015-02-15', np.nan, '2017-05-16', '2018-01-15'],\n",
    "    'age': [45, 36, 34, 25],\n",
    "    'yrs_of_experience': [24, 15, 14, 34]\n",
    "    }\n",
    ")"
   ]
  },
  {
   "cell_type": "code",
   "execution_count": 3,
   "id": "85a49499",
   "metadata": {},
   "outputs": [],
   "source": [
    "# fill any null dates joined with December 1, 2009\n",
    "employee_info['date_joined'] = employee_info['date_joined'].fillna('2009-12-01')"
   ]
  },
  {
   "cell_type": "code",
   "execution_count": 4,
   "id": "c3a5b32b",
   "metadata": {},
   "outputs": [],
   "source": [
    "# remove any duplicate rows\n",
    "employee_info = employee_info.drop_duplicates()"
   ]
  },
  {
   "cell_type": "code",
   "execution_count": 5,
   "id": "4a07866b",
   "metadata": {},
   "outputs": [],
   "source": [
    "# create variable for the month each employee joined the company\n",
    "# dates are formatted the same with the month at index values 5 and 6 (given indexing begins at 0)\n",
    "employee_info['month_joined'] = employee_info['date_joined'].str.slice(5, 7)"
   ]
  },
  {
   "cell_type": "code",
   "execution_count": 6,
   "id": "8d9cba5b",
   "metadata": {},
   "outputs": [],
   "source": [
    "# count the number of employees joining per month (and year) \n",
    "employees_per_month = employee_info.groupby('month_joined').size().reset_index()\n",
    "employees_per_month.columns = ['month_joined', 'n_employees']"
   ]
  },
  {
   "cell_type": "code",
   "execution_count": 7,
   "id": "07a9cab2",
   "metadata": {},
   "outputs": [
    {
     "data": {
      "text/html": [
       "<div>\n",
       "<style scoped>\n",
       "    .dataframe tbody tr th:only-of-type {\n",
       "        vertical-align: middle;\n",
       "    }\n",
       "\n",
       "    .dataframe tbody tr th {\n",
       "        vertical-align: top;\n",
       "    }\n",
       "\n",
       "    .dataframe thead th {\n",
       "        text-align: right;\n",
       "    }\n",
       "</style>\n",
       "<table border=\"1\" class=\"dataframe\">\n",
       "  <thead>\n",
       "    <tr style=\"text-align: right;\">\n",
       "      <th></th>\n",
       "      <th>month_joined</th>\n",
       "      <th>n_employees</th>\n",
       "    </tr>\n",
       "  </thead>\n",
       "  <tbody>\n",
       "    <tr>\n",
       "      <th>0</th>\n",
       "      <td>01</td>\n",
       "      <td>1</td>\n",
       "    </tr>\n",
       "    <tr>\n",
       "      <th>1</th>\n",
       "      <td>02</td>\n",
       "      <td>1</td>\n",
       "    </tr>\n",
       "    <tr>\n",
       "      <th>2</th>\n",
       "      <td>05</td>\n",
       "      <td>1</td>\n",
       "    </tr>\n",
       "    <tr>\n",
       "      <th>3</th>\n",
       "      <td>12</td>\n",
       "      <td>1</td>\n",
       "    </tr>\n",
       "  </tbody>\n",
       "</table>\n",
       "</div>"
      ],
      "text/plain": [
       "  month_joined  n_employees\n",
       "0           01            1\n",
       "1           02            1\n",
       "2           05            1\n",
       "3           12            1"
      ]
     },
     "execution_count": 7,
     "metadata": {},
     "output_type": "execute_result"
    }
   ],
   "source": [
    "employees_per_month"
   ]
  },
  {
   "cell_type": "code",
   "execution_count": null,
   "id": "af8593ac",
   "metadata": {},
   "outputs": [],
   "source": []
  }
 ],
 "metadata": {
  "kernelspec": {
   "display_name": "Python 3 (ipykernel)",
   "language": "python",
   "name": "python3"
  },
  "language_info": {
   "codemirror_mode": {
    "name": "ipython",
    "version": 3
   },
   "file_extension": ".py",
   "mimetype": "text/x-python",
   "name": "python",
   "nbconvert_exporter": "python",
   "pygments_lexer": "ipython3",
   "version": "3.9.7"
  }
 },
 "nbformat": 4,
 "nbformat_minor": 5
}
