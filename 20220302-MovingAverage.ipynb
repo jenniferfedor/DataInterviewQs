{
 "cells": [
  {
   "cell_type": "markdown",
   "id": "d4575fd0",
   "metadata": {},
   "source": [
    "### 3/2/2022\n",
    "\n",
    "You are given a list of numbers J and a single number p. **Write a function to return the minimum and maximum averages of the sequences of p numbers in the list J.**    \n",
    "    \n",
    "For example:  \n",
    "     \n",
    "`# Array of numbers`  \n",
    "`J = [4, 4, 4, 9, 10, 11, 12]`  \n",
    "\n",
    "`# Length of sequences, p`  \n",
    "`p = 3`  \n",
    "\n",
    "Here, the sequences will be:  \n",
    "   - (4,4,4)  \n",
    "   - (4,4,9)  \n",
    "   - (4,9,10)\n",
    "   - (9,10,11)\n",
    "   - (10,11,12)\n",
    "\n",
    "From the above we can see that the minimum average will be 4 and the maximum average will be 11, which corresponds to the first and last sequences."
   ]
  },
  {
   "cell_type": "code",
   "execution_count": 5,
   "id": "b00b99f1",
   "metadata": {},
   "outputs": [],
   "source": [
    "import numpy as np"
   ]
  },
  {
   "cell_type": "code",
   "execution_count": 6,
   "id": "333618d5",
   "metadata": {},
   "outputs": [],
   "source": [
    "# define the function to return the min and max averages of the sequences of length p in array J\n",
    "def return_min_max_avg(J, p):\n",
    "    \n",
    "    # exception handling:\n",
    "    # p should be an integer\n",
    "    if isinstance(p, int) == False:\n",
    "        raise Exception('p must be an integer')\n",
    "        \n",
    "    # J should be a list of numbers (integer or float)\n",
    "    if isinstance(J, list) == False or all(type(x) in (int, float) for x in J) == False:\n",
    "        raise Exception('J must be a list of numbers')\n",
    "    \n",
    "    # the length of J must be greater than or equal to p\n",
    "    if len(J) < p:\n",
    "        raise Exception('J must have p or more elements')\n",
    "    \n",
    "    # if no excpetions are met, proceed with calculating the sequence averages:\n",
    "    # empty array to store the average value of each sequence of length p\n",
    "    avgs = []\n",
    "\n",
    "    # loop through a range of index values to start each sequence on \n",
    "    # the range begins at 0 because indexing starts at 0 in python (cf. 1 in R)\n",
    "    # the range ends at len(J)-p to ensure there are p numbers in each sequence and 1 is added because range() is not inclusive of the endpoint\n",
    "    for i in range(0, len(J)-p+1):\n",
    "        \n",
    "        # slice array beginning at index i and ending at index i+p-1 (slice is also not inclusive of the endpoint)\n",
    "        seq = J[i:i+p]\n",
    "        \n",
    "        # take the average of the sequence \n",
    "        avg = np.average(seq).round(2)\n",
    "        \n",
    "        # append the average to our array of sequence-averages\n",
    "        avgs.append(avg)\n",
    "    \n",
    "    # return the minimum and maximum values in our array of sequence-averages\n",
    "    return(np.min(avgs), np.max(avgs))"
   ]
  },
  {
   "cell_type": "code",
   "execution_count": 7,
   "id": "e8746f78",
   "metadata": {},
   "outputs": [],
   "source": [
    "# Array of numbers\n",
    "J = [4, 4, 4, 9, 10, 11, 12]\n",
    "\n",
    "# Length of sequences, p\n",
    "p = 3"
   ]
  },
  {
   "cell_type": "code",
   "execution_count": 8,
   "id": "c2f98c09",
   "metadata": {
    "scrolled": true
   },
   "outputs": [
    {
     "data": {
      "text/plain": [
       "(4.0, 11.0)"
      ]
     },
     "execution_count": 8,
     "metadata": {},
     "output_type": "execute_result"
    }
   ],
   "source": [
    "return_min_max_avg(J, p)"
   ]
  }
 ],
 "metadata": {
  "kernelspec": {
   "display_name": "Python 3 (ipykernel)",
   "language": "python",
   "name": "python3"
  },
  "language_info": {
   "codemirror_mode": {
    "name": "ipython",
    "version": 3
   },
   "file_extension": ".py",
   "mimetype": "text/x-python",
   "name": "python",
   "nbconvert_exporter": "python",
   "pygments_lexer": "ipython3",
   "version": "3.9.7"
  }
 },
 "nbformat": 4,
 "nbformat_minor": 5
}
