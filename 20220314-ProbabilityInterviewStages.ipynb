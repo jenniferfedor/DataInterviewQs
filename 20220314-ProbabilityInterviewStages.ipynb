{
 "cells": [
  {
   "cell_type": "markdown",
   "id": "482bea9d",
   "metadata": {},
   "source": [
    "### 3/14/2022\n",
    "\n",
    "**Given the information below, if you had a good first interview, what is the probability you will receive a second interview?**  \n",
    "\n",
    "   - 50% of all people who received a first interview received a second interview  \n",
    "   - 95% of people that received a second interview had a good first interview  \n",
    "   - 75% of people that did not receive a second interview had a good first interview  \n",
    "   \n",
    "$~$"
   ]
  },
  {
   "cell_type": "markdown",
   "id": "6d07b5c1",
   "metadata": {},
   "source": [
    "Let $A$ represent receiving a second interview and $B$ represent having a good first interview.  \n",
    "\n",
    "From the problem, we know that the probability of receiving a second interview, $P(A)$ is 0.5; thus, the probability of *not* receiving a second interview, $P(A')$ is equal to $1 - P(A)$, which is also 0.5. The probability of having had a good first interview given that you received a second interview, $P(B|A)$ is 0.95. The probability of having had a good first interview given that you did not receive a second interview, $P(B|A')$ is 0.75.  \n",
    "\n",
    "We want to know the probability of receiving a second interview given that you have a good first interview, $P(A|B)$.  \n",
    "\n",
    "$~$\n",
    "\n",
    "We know from Bayes' theorem that:  \n",
    "\n",
    "$P(A|B) = \\frac{P(B|A) P(A)}{P(B)}$  \n",
    "\n",
    "We also know that the marginal probability of having a good first interview, $P(B)$ is equal to:  \n",
    "\n",
    "$P(B) = P(B|A) P(A) + P(B|A') P(A')$  \n",
    "\n",
    "$~$\n",
    "\n",
    "Therefore:  \n",
    "\n",
    "$P(A|B) = \\frac{P(B|A) P(A)}{P(B|A) P(A) + P(B|A') P(A')}$   \n",
    "$P(A|B) = \\frac{0.95 \\times 0.5}{(0.95 \\times 0.5) + (0.75 \\times 0.5)}$  \n",
    "$P(A|B) = \\frac{0.475}{0.475 + 0.375}$  \n",
    "$P(A|B) = \\frac{0.475}{0.85}$  \n",
    "$P(A|B) \\approx 0.5588$  \n",
    "\n",
    "$~$\n",
    "\n",
    "The probability of receiving a second interview given that you had a good first interview is about 0.5588.  "
   ]
  },
  {
   "cell_type": "code",
   "execution_count": null,
   "id": "1eb25bab",
   "metadata": {},
   "outputs": [],
   "source": []
  }
 ],
 "metadata": {
  "kernelspec": {
   "display_name": "Python 3 (ipykernel)",
   "language": "python",
   "name": "python3"
  },
  "language_info": {
   "codemirror_mode": {
    "name": "ipython",
    "version": 3
   },
   "file_extension": ".py",
   "mimetype": "text/x-python",
   "name": "python",
   "nbconvert_exporter": "python",
   "pygments_lexer": "ipython3",
   "version": "3.9.7"
  }
 },
 "nbformat": 4,
 "nbformat_minor": 5
}
