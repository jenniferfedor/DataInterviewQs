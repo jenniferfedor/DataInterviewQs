{
 "cells": [
  {
   "cell_type": "markdown",
   "id": "70a52cde",
   "metadata": {},
   "source": [
    "### 3/16/2022\n",
    "\n",
    "**Given an array a, write a function to feed in the array elements and check whether they can all be made equal by only multiplying the numbers by 2 or 7**. (You can multiply by these numbers as many times as you like). If all elements can be made equal, return True, otherwise return False.  \n",
    "\n",
    "\n",
    "Example:\n",
    "    \n",
    "`# Input`  \n",
    "`a = [128, 4, 2]`  \n",
    "    \n",
    "`# Here, we can turn all elements into 128, by multiplying by 2`  \n",
    "`# 128, 4*2*2*2*2*2 = 128, 2*2*2*2*2*2*2 = 128`  \n",
    "    \n",
    "`# Output:`  \n",
    "`# True`  \n",
    "  \n",
    "  \n",
    "`# Input`  \n",
    "`a = [65, 4, 2]`  \n",
    "    \n",
    "`# Here, we cannot make all elements equal through multiplication by 2 or 7, so we return false`  \n",
    "\n",
    "`# Output:`  \n",
    "`# False`  \n",
    "\n",
    "$~$"
   ]
  },
  {
   "cell_type": "code",
   "execution_count": 1,
   "id": "13270d09",
   "metadata": {},
   "outputs": [],
   "source": [
    "from math import log"
   ]
  },
  {
   "cell_type": "code",
   "execution_count": 5,
   "id": "3a9dfb1a",
   "metadata": {},
   "outputs": [],
   "source": [
    "def array_made_equal(a):\n",
    "    \n",
    "    # the maximum element in the array, to which we need to compare all other elements\n",
    "    max_element = max(a)\n",
    "    \n",
    "    # iterate over the elements in the array\n",
    "    for i in range(0, len(a)):\n",
    "        \n",
    "        element = a[i]\n",
    "        quotient = max_element/element\n",
    "        power2 = log(quotient)/log(2)\n",
    "        power7 = log(quotient)/log(7)\n",
    "      \n",
    "        # in order for all elements to be made equal by multiplying by 2 or by 7 as many times as necessary, x, \n",
    "        # it must be true that max_element = element*(2^x) or max_element = element*(7^x), and x is an integer\n",
    "        # if the above is true, the result for that element is True, otherwise the result is False\n",
    "        if power2.is_integer() == True | power7.is_integer() == True:\n",
    "            result = True\n",
    "        else:\n",
    "            result = False\n",
    "    \n",
    "        # if the result is True, we continue to iterate over the next element; however, if the result for a single \n",
    "        # element is False, we know that the entire array cannot be made equal regardless of the values of \n",
    "        # the other elements, so we end the loop\n",
    "        if result == True:\n",
    "            continue\n",
    "        else:\n",
    "            break\n",
    "            \n",
    "    # the last value of 'result' is returned; if loop was broken this will be False, otherwise it will be True       \n",
    "    return(result)"
   ]
  },
  {
   "cell_type": "code",
   "execution_count": 6,
   "id": "273b5b63",
   "metadata": {},
   "outputs": [],
   "source": [
    "a = [128, 4, 2]"
   ]
  },
  {
   "cell_type": "code",
   "execution_count": 7,
   "id": "ebbe1119",
   "metadata": {
    "scrolled": true
   },
   "outputs": [
    {
     "data": {
      "text/plain": [
       "True"
      ]
     },
     "execution_count": 7,
     "metadata": {},
     "output_type": "execute_result"
    }
   ],
   "source": [
    "array_made_equal(a)"
   ]
  },
  {
   "cell_type": "code",
   "execution_count": 8,
   "id": "efc5fb74",
   "metadata": {},
   "outputs": [],
   "source": [
    "a = [65, 4, 2]"
   ]
  },
  {
   "cell_type": "code",
   "execution_count": 9,
   "id": "d0d15bea",
   "metadata": {
    "scrolled": true
   },
   "outputs": [
    {
     "data": {
      "text/plain": [
       "False"
      ]
     },
     "execution_count": 9,
     "metadata": {},
     "output_type": "execute_result"
    }
   ],
   "source": [
    "array_made_equal(a)"
   ]
  },
  {
   "cell_type": "code",
   "execution_count": null,
   "id": "ce607a1e",
   "metadata": {},
   "outputs": [],
   "source": []
  },
  {
   "cell_type": "code",
   "execution_count": null,
   "id": "518f8a73",
   "metadata": {},
   "outputs": [],
   "source": [
    "# prime factorization"
   ]
  },
  {
   "cell_type": "code",
   "execution_count": null,
   "id": "482bff52",
   "metadata": {},
   "outputs": [],
   "source": []
  },
  {
   "cell_type": "code",
   "execution_count": null,
   "id": "e9922e33",
   "metadata": {},
   "outputs": [],
   "source": []
  }
 ],
 "metadata": {
  "kernelspec": {
   "display_name": "Python 3 (ipykernel)",
   "language": "python",
   "name": "python3"
  },
  "language_info": {
   "codemirror_mode": {
    "name": "ipython",
    "version": 3
   },
   "file_extension": ".py",
   "mimetype": "text/x-python",
   "name": "python",
   "nbconvert_exporter": "python",
   "pygments_lexer": "ipython3",
   "version": "3.9.7"
  }
 },
 "nbformat": 4,
 "nbformat_minor": 5
}
