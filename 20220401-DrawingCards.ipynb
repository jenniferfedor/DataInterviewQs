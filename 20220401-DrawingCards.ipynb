{
 "cells": [
  {
   "cell_type": "markdown",
   "id": "165f4a10",
   "metadata": {},
   "source": [
    "### 4/1/2022\n",
    "\n",
    "We have a standard (52 card) deck of cards, with equal share of the cards associated with each of the four \"suits\" (e.g. clubs, spades, diamonds, and hearts).\n",
    "\n",
    "If you draw 3 cards from the deck, one at a time, what is the probability that you draw a club, a heart, and a diamond in that order? \n",
    "\n",
    "$~$"
   ]
  },
  {
   "cell_type": "markdown",
   "id": "6ed14918",
   "metadata": {},
   "source": [
    "**Solution:**  \n",
    "\n",
    "\n",
    "If we have a deck of 52 cards with an equal share of the cards associated with each of the four suits, there are 13 cards per suit.  Assuming we draw cards from the deck without replacement, with each draw the number of cards of suit S will decrease by 1, as will the total number of cards in the deck.  \n",
    "\n",
    "$~$\n",
    "\n",
    "Therefore:   \n",
    "\n",
    "The probability of drawing a club first, ${P(\\text{club } 1^{\\text{st}})}$ is $\\frac{13}{52} = \\frac{1}{4}$,  \n",
    "\n",
    "The probabilty of drawing a heart second, ${P(\\text{heart } 2^{\\text{nd}})}$ is $\\frac{13}{52-1} = \\frac{13}{51}$, and  \n",
    "\n",
    "The probabilty of drawing a diamond third, ${P(\\text{diamond } 3^{\\text{rd}})}$ is $\\frac{13}{52-1-1} = \\frac{13}{50}$  \n",
    "\n",
    "$~$\n",
    "\n",
    "We can multiply the probabilty of these events occurring to get the total probabilty.  \n",
    "\n",
    "$P(\\text{club } 1^{\\text{st}} \\cap \\text{heart } 2^{\\text{nd}} \\cap \\text{diamond } 3^{\\text{rd}} ) = P(\\text{club } 1^{\\text{st}}) \\times P(\\text{heart } 2^{\\text{nd}}) \\times P(\\text{diamond } 3^{\\text{rd}})) = \\frac{1}{4} \\times \\frac{13}{51} \\times \\frac{13}{50}$"
   ]
  },
  {
   "cell_type": "code",
   "execution_count": 1,
   "id": "4ba3291f",
   "metadata": {},
   "outputs": [
    {
     "data": {
      "text/plain": [
       "0.01656862745098039"
      ]
     },
     "execution_count": 1,
     "metadata": {},
     "output_type": "execute_result"
    }
   ],
   "source": [
    "(1/4)*(13/51)*(13/50)"
   ]
  },
  {
   "cell_type": "markdown",
   "id": "8ce30a9c",
   "metadata": {},
   "source": [
    "**The probabilty of drawing a club, a heart, and a diamond, in that order, is $\\approx 0.0166$**"
   ]
  },
  {
   "cell_type": "code",
   "execution_count": null,
   "id": "2144147f",
   "metadata": {},
   "outputs": [],
   "source": []
  }
 ],
 "metadata": {
  "kernelspec": {
   "display_name": "Python 3 (ipykernel)",
   "language": "python",
   "name": "python3"
  },
  "language_info": {
   "codemirror_mode": {
    "name": "ipython",
    "version": 3
   },
   "file_extension": ".py",
   "mimetype": "text/x-python",
   "name": "python",
   "nbconvert_exporter": "python",
   "pygments_lexer": "ipython3",
   "version": "3.9.7"
  }
 },
 "nbformat": 4,
 "nbformat_minor": 5
}
